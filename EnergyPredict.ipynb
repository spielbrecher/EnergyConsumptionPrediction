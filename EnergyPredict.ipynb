{
 "cells": [
  {
   "cell_type": "code",
   "execution_count": 159,
   "metadata": {},
   "outputs": [],
   "source": [
    "import io\n",
    "import numpy as np\n",
    "import pandas as pd\n",
    "import matplotlib.pyplot as plt"
   ]
  },
  {
   "cell_type": "code",
   "execution_count": 184,
   "metadata": {},
   "outputs": [
    {
     "data": {
      "text/html": [
       "<div>\n",
       "<style scoped>\n",
       "    .dataframe tbody tr th:only-of-type {\n",
       "        vertical-align: middle;\n",
       "    }\n",
       "\n",
       "    .dataframe tbody tr th {\n",
       "        vertical-align: top;\n",
       "    }\n",
       "\n",
       "    .dataframe thead th {\n",
       "        text-align: right;\n",
       "    }\n",
       "</style>\n",
       "<table border=\"1\" class=\"dataframe\">\n",
       "  <thead>\n",
       "    <tr style=\"text-align: right;\">\n",
       "      <th></th>\n",
       "      <th>INTERVAL</th>\n",
       "      <th>M_DATE</th>\n",
       "      <th>PRICE_ZONE_ID</th>\n",
       "      <th>POWER_SYS_ID</th>\n",
       "      <th>E_USE_FACT</th>\n",
       "    </tr>\n",
       "  </thead>\n",
       "  <tbody>\n",
       "    <tr>\n",
       "      <th>0</th>\n",
       "      <td>0</td>\n",
       "      <td>2010-07-01</td>\n",
       "      <td>1</td>\n",
       "      <td>530000</td>\n",
       "      <td>18684.0</td>\n",
       "    </tr>\n",
       "    <tr>\n",
       "      <th>1</th>\n",
       "      <td>1</td>\n",
       "      <td>2010-07-01</td>\n",
       "      <td>1</td>\n",
       "      <td>530000</td>\n",
       "      <td>17925.0</td>\n",
       "    </tr>\n",
       "    <tr>\n",
       "      <th>2</th>\n",
       "      <td>2</td>\n",
       "      <td>2010-07-01</td>\n",
       "      <td>1</td>\n",
       "      <td>530000</td>\n",
       "      <td>17406.0</td>\n",
       "    </tr>\n",
       "    <tr>\n",
       "      <th>3</th>\n",
       "      <td>3</td>\n",
       "      <td>2010-07-01</td>\n",
       "      <td>1</td>\n",
       "      <td>530000</td>\n",
       "      <td>16951.0</td>\n",
       "    </tr>\n",
       "    <tr>\n",
       "      <th>4</th>\n",
       "      <td>4</td>\n",
       "      <td>2010-07-01</td>\n",
       "      <td>1</td>\n",
       "      <td>530000</td>\n",
       "      <td>16758.0</td>\n",
       "    </tr>\n",
       "  </tbody>\n",
       "</table>\n",
       "</div>"
      ],
      "text/plain": [
       "   INTERVAL      M_DATE  PRICE_ZONE_ID  POWER_SYS_ID  E_USE_FACT\n",
       "0         0  2010-07-01              1        530000     18684.0\n",
       "1         1  2010-07-01              1        530000     17925.0\n",
       "2         2  2010-07-01              1        530000     17406.0\n",
       "3         3  2010-07-01              1        530000     16951.0\n",
       "4         4  2010-07-01              1        530000     16758.0"
      ]
     },
     "execution_count": 184,
     "metadata": {},
     "output_type": "execute_result"
    }
   ],
   "source": [
    "# Загружаем данные по потреблению в Центре\n",
    "data = pd.read_csv('gen_Center.csv', sep=';')\n",
    "data.head()"
   ]
  },
  {
   "cell_type": "code",
   "execution_count": 14,
   "metadata": {},
   "outputs": [
    {
     "data": {
      "image/png": "[encoded data removed]",
      "text/plain": [
       "<Figure size 432x288 with 1 Axes>"
      ]
     },
     "metadata": {
      "needs_background": "light"
     },
     "output_type": "display_data"
    }
   ],
   "source": [
    "plt.scatter(0, 0, color=\"m\", marker=\"o\", s=30)\n",
    "plt.plot(data['M_DATE'], data['E_USE_FACT'], color=\"g\")\n",
    "plt.xlabel(\"Date\")\n",
    "plt.ylabel(\"USE\")\n",
    "plt.show()\n"
   ]
  },
  {
   "cell_type": "code",
   "execution_count": 185,
   "metadata": {},
   "outputs": [
    {
     "data": {
      "text/html": [
       "<div>\n",
       "<style scoped>\n",
       "    .dataframe tbody tr th:only-of-type {\n",
       "        vertical-align: middle;\n",
       "    }\n",
       "\n",
       "    .dataframe tbody tr th {\n",
       "        vertical-align: top;\n",
       "    }\n",
       "\n",
       "    .dataframe thead th {\n",
       "        text-align: right;\n",
       "    }\n",
       "</style>\n",
       "<table border=\"1\" class=\"dataframe\">\n",
       "  <thead>\n",
       "    <tr style=\"text-align: right;\">\n",
       "      <th></th>\n",
       "      <th>M_DATE</th>\n",
       "      <th>E_USE_FACT</th>\n",
       "    </tr>\n",
       "  </thead>\n",
       "  <tbody>\n",
       "    <tr>\n",
       "      <th>0</th>\n",
       "      <td>2010-07-01</td>\n",
       "      <td>18684.0</td>\n",
       "    </tr>\n",
       "    <tr>\n",
       "      <th>24</th>\n",
       "      <td>2010-07-02</td>\n",
       "      <td>18570.0</td>\n",
       "    </tr>\n",
       "    <tr>\n",
       "      <th>48</th>\n",
       "      <td>2010-07-03</td>\n",
       "      <td>19109.0</td>\n",
       "    </tr>\n",
       "    <tr>\n",
       "      <th>72</th>\n",
       "      <td>2010-07-04</td>\n",
       "      <td>18399.0</td>\n",
       "    </tr>\n",
       "    <tr>\n",
       "      <th>96</th>\n",
       "      <td>2010-07-05</td>\n",
       "      <td>18227.0</td>\n",
       "    </tr>\n",
       "    <tr>\n",
       "      <th>...</th>\n",
       "      <td>...</td>\n",
       "      <td>...</td>\n",
       "    </tr>\n",
       "    <tr>\n",
       "      <th>91152</th>\n",
       "      <td>2020-11-23</td>\n",
       "      <td>27670.0</td>\n",
       "    </tr>\n",
       "    <tr>\n",
       "      <th>91176</th>\n",
       "      <td>2020-11-24</td>\n",
       "      <td>27526.0</td>\n",
       "    </tr>\n",
       "    <tr>\n",
       "      <th>91200</th>\n",
       "      <td>2020-11-25</td>\n",
       "      <td>27237.0</td>\n",
       "    </tr>\n",
       "    <tr>\n",
       "      <th>91224</th>\n",
       "      <td>2020-11-26</td>\n",
       "      <td>27403.0</td>\n",
       "    </tr>\n",
       "    <tr>\n",
       "      <th>91248</th>\n",
       "      <td>2020-11-27</td>\n",
       "      <td>27552.0</td>\n",
       "    </tr>\n",
       "  </tbody>\n",
       "</table>\n",
       "<p>3803 rows × 2 columns</p>\n",
       "</div>"
      ],
      "text/plain": [
       "           M_DATE  E_USE_FACT\n",
       "0      2010-07-01     18684.0\n",
       "24     2010-07-02     18570.0\n",
       "48     2010-07-03     19109.0\n",
       "72     2010-07-04     18399.0\n",
       "96     2010-07-05     18227.0\n",
       "...           ...         ...\n",
       "91152  2020-11-23     27670.0\n",
       "91176  2020-11-24     27526.0\n",
       "91200  2020-11-25     27237.0\n",
       "91224  2020-11-26     27403.0\n",
       "91248  2020-11-27     27552.0\n",
       "\n",
       "[3803 rows x 2 columns]"
      ]
     },
     "execution_count": 185,
     "metadata": {},
     "output_type": "execute_result"
    }
   ],
   "source": [
    "# Оставляем только первый час: он все равно коррелирует с другими\n",
    "df = pd.DataFrame(columns=['M_DATE','E_USE_FACT'])\n",
    "filter0 = data['INTERVAL'] == 0\n",
    "filtered = data.loc[filter0]\n",
    "df = filtered[['M_DATE','E_USE_FACT']]\n",
    "df"
   ]
  },
  {
   "cell_type": "markdown",
   "metadata": {},
   "source": [
    "# Загружаем данные температуры воздуха"
   ]
  },
  {
   "cell_type": "code",
   "execution_count": 186,
   "metadata": {},
   "outputs": [
    {
     "data": {
      "text/html": [
       "<div>\n",
       "<style scoped>\n",
       "    .dataframe tbody tr th:only-of-type {\n",
       "        vertical-align: middle;\n",
       "    }\n",
       "\n",
       "    .dataframe tbody tr th {\n",
       "        vertical-align: top;\n",
       "    }\n",
       "\n",
       "    .dataframe thead th {\n",
       "        text-align: right;\n",
       "    }\n",
       "</style>\n",
       "<table border=\"1\" class=\"dataframe\">\n",
       "  <thead>\n",
       "    <tr style=\"text-align: right;\">\n",
       "      <th></th>\n",
       "      <th>STATION</th>\n",
       "      <th>NAME</th>\n",
       "      <th>LATITUDE</th>\n",
       "      <th>LONGITUDE</th>\n",
       "      <th>ELEVATION</th>\n",
       "      <th>DATE</th>\n",
       "      <th>TAVG</th>\n",
       "      <th>TAVG_ATTRIBUTES</th>\n",
       "      <th>TMAX</th>\n",
       "      <th>TMAX_ATTRIBUTES</th>\n",
       "      <th>TMIN</th>\n",
       "      <th>TMIN_ATTRIBUTES</th>\n",
       "    </tr>\n",
       "  </thead>\n",
       "  <tbody>\n",
       "    <tr>\n",
       "      <th>0</th>\n",
       "      <td>RSM00027612</td>\n",
       "      <td>MOSCOW, RS</td>\n",
       "      <td>55.8331</td>\n",
       "      <td>37.6167</td>\n",
       "      <td>156.0</td>\n",
       "      <td>2010-07-01</td>\n",
       "      <td>20.4</td>\n",
       "      <td>,,r</td>\n",
       "      <td>26.1</td>\n",
       "      <td>,,r</td>\n",
       "      <td>12.0</td>\n",
       "      <td>,,r</td>\n",
       "    </tr>\n",
       "    <tr>\n",
       "      <th>1</th>\n",
       "      <td>RSM00027612</td>\n",
       "      <td>MOSCOW, RS</td>\n",
       "      <td>55.8331</td>\n",
       "      <td>37.6167</td>\n",
       "      <td>156.0</td>\n",
       "      <td>2010-07-02</td>\n",
       "      <td>22.4</td>\n",
       "      <td>,,r</td>\n",
       "      <td>29.2</td>\n",
       "      <td>,,r</td>\n",
       "      <td>12.5</td>\n",
       "      <td>,,r</td>\n",
       "    </tr>\n",
       "    <tr>\n",
       "      <th>2</th>\n",
       "      <td>RSM00027612</td>\n",
       "      <td>MOSCOW, RS</td>\n",
       "      <td>55.8331</td>\n",
       "      <td>37.6167</td>\n",
       "      <td>156.0</td>\n",
       "      <td>2010-07-03</td>\n",
       "      <td>23.3</td>\n",
       "      <td>,,r</td>\n",
       "      <td>26.8</td>\n",
       "      <td>,,r</td>\n",
       "      <td>20.1</td>\n",
       "      <td>,,r</td>\n",
       "    </tr>\n",
       "    <tr>\n",
       "      <th>3</th>\n",
       "      <td>RSM00027612</td>\n",
       "      <td>MOSCOW, RS</td>\n",
       "      <td>55.8331</td>\n",
       "      <td>37.6167</td>\n",
       "      <td>156.0</td>\n",
       "      <td>2010-07-04</td>\n",
       "      <td>22.4</td>\n",
       "      <td>,,r</td>\n",
       "      <td>26.8</td>\n",
       "      <td>,,r</td>\n",
       "      <td>15.7</td>\n",
       "      <td>,,r</td>\n",
       "    </tr>\n",
       "    <tr>\n",
       "      <th>4</th>\n",
       "      <td>RSM00027612</td>\n",
       "      <td>MOSCOW, RS</td>\n",
       "      <td>55.8331</td>\n",
       "      <td>37.6167</td>\n",
       "      <td>156.0</td>\n",
       "      <td>2010-07-05</td>\n",
       "      <td>23.0</td>\n",
       "      <td>,,r</td>\n",
       "      <td>28.3</td>\n",
       "      <td>,,r</td>\n",
       "      <td>14.8</td>\n",
       "      <td>,,r</td>\n",
       "    </tr>\n",
       "    <tr>\n",
       "      <th>...</th>\n",
       "      <td>...</td>\n",
       "      <td>...</td>\n",
       "      <td>...</td>\n",
       "      <td>...</td>\n",
       "      <td>...</td>\n",
       "      <td>...</td>\n",
       "      <td>...</td>\n",
       "      <td>...</td>\n",
       "      <td>...</td>\n",
       "      <td>...</td>\n",
       "      <td>...</td>\n",
       "      <td>...</td>\n",
       "    </tr>\n",
       "    <tr>\n",
       "      <th>3478</th>\n",
       "      <td>RSM00027612</td>\n",
       "      <td>MOSCOW, RS</td>\n",
       "      <td>55.8331</td>\n",
       "      <td>37.6167</td>\n",
       "      <td>156.0</td>\n",
       "      <td>2020-11-14</td>\n",
       "      <td>1.9</td>\n",
       "      <td>H,,S</td>\n",
       "      <td>3.4</td>\n",
       "      <td>,,S</td>\n",
       "      <td>0.4</td>\n",
       "      <td>,,S</td>\n",
       "    </tr>\n",
       "    <tr>\n",
       "      <th>3479</th>\n",
       "      <td>RSM00027612</td>\n",
       "      <td>MOSCOW, RS</td>\n",
       "      <td>55.8331</td>\n",
       "      <td>37.6167</td>\n",
       "      <td>156.0</td>\n",
       "      <td>2020-11-15</td>\n",
       "      <td>1.1</td>\n",
       "      <td>H,,S</td>\n",
       "      <td>1.5</td>\n",
       "      <td>,,S</td>\n",
       "      <td>NaN</td>\n",
       "      <td>NaN</td>\n",
       "    </tr>\n",
       "    <tr>\n",
       "      <th>3480</th>\n",
       "      <td>RSM00027612</td>\n",
       "      <td>MOSCOW, RS</td>\n",
       "      <td>55.8331</td>\n",
       "      <td>37.6167</td>\n",
       "      <td>156.0</td>\n",
       "      <td>2020-11-16</td>\n",
       "      <td>-1.6</td>\n",
       "      <td>H,,S</td>\n",
       "      <td>NaN</td>\n",
       "      <td>NaN</td>\n",
       "      <td>NaN</td>\n",
       "      <td>NaN</td>\n",
       "    </tr>\n",
       "    <tr>\n",
       "      <th>3481</th>\n",
       "      <td>RSM00027612</td>\n",
       "      <td>MOSCOW, RS</td>\n",
       "      <td>55.8331</td>\n",
       "      <td>37.6167</td>\n",
       "      <td>156.0</td>\n",
       "      <td>2020-11-17</td>\n",
       "      <td>-5.2</td>\n",
       "      <td>H,,S</td>\n",
       "      <td>-3.5</td>\n",
       "      <td>,,S</td>\n",
       "      <td>-7.1</td>\n",
       "      <td>,,S</td>\n",
       "    </tr>\n",
       "    <tr>\n",
       "      <th>3482</th>\n",
       "      <td>RSM00027612</td>\n",
       "      <td>MOSCOW, RS</td>\n",
       "      <td>55.8331</td>\n",
       "      <td>37.6167</td>\n",
       "      <td>156.0</td>\n",
       "      <td>2020-11-18</td>\n",
       "      <td>-2.8</td>\n",
       "      <td>H,,S</td>\n",
       "      <td>-1.1</td>\n",
       "      <td>,,S</td>\n",
       "      <td>-5.3</td>\n",
       "      <td>,,S</td>\n",
       "    </tr>\n",
       "  </tbody>\n",
       "</table>\n",
       "<p>3483 rows × 12 columns</p>\n",
       "</div>"
      ],
      "text/plain": [
       "          STATION        NAME  LATITUDE  LONGITUDE  ELEVATION        DATE  \\\n",
       "0     RSM00027612  MOSCOW, RS   55.8331    37.6167      156.0  2010-07-01   \n",
       "1     RSM00027612  MOSCOW, RS   55.8331    37.6167      156.0  2010-07-02   \n",
       "2     RSM00027612  MOSCOW, RS   55.8331    37.6167      156.0  2010-07-03   \n",
       "3     RSM00027612  MOSCOW, RS   55.8331    37.6167      156.0  2010-07-04   \n",
       "4     RSM00027612  MOSCOW, RS   55.8331    37.6167      156.0  2010-07-05   \n",
       "...           ...         ...       ...        ...        ...         ...   \n",
       "3478  RSM00027612  MOSCOW, RS   55.8331    37.6167      156.0  2020-11-14   \n",
       "3479  RSM00027612  MOSCOW, RS   55.8331    37.6167      156.0  2020-11-15   \n",
       "3480  RSM00027612  MOSCOW, RS   55.8331    37.6167      156.0  2020-11-16   \n",
       "3481  RSM00027612  MOSCOW, RS   55.8331    37.6167      156.0  2020-11-17   \n",
       "3482  RSM00027612  MOSCOW, RS   55.8331    37.6167      156.0  2020-11-18   \n",
       "\n",
       "      TAVG TAVG_ATTRIBUTES  TMAX TMAX_ATTRIBUTES  TMIN TMIN_ATTRIBUTES  \n",
       "0     20.4             ,,r  26.1             ,,r  12.0             ,,r  \n",
       "1     22.4             ,,r  29.2             ,,r  12.5             ,,r  \n",
       "2     23.3             ,,r  26.8             ,,r  20.1             ,,r  \n",
       "3     22.4             ,,r  26.8             ,,r  15.7             ,,r  \n",
       "4     23.0             ,,r  28.3             ,,r  14.8             ,,r  \n",
       "...    ...             ...   ...             ...   ...             ...  \n",
       "3478   1.9            H,,S   3.4             ,,S   0.4             ,,S  \n",
       "3479   1.1            H,,S   1.5             ,,S   NaN             NaN  \n",
       "3480  -1.6            H,,S   NaN             NaN   NaN             NaN  \n",
       "3481  -5.2            H,,S  -3.5             ,,S  -7.1             ,,S  \n",
       "3482  -2.8            H,,S  -1.1             ,,S  -5.3             ,,S  \n",
       "\n",
       "[3483 rows x 12 columns]"
      ]
     },
     "execution_count": 186,
     "metadata": {},
     "output_type": "execute_result"
    }
   ],
   "source": [
    "dfTemperature = pd.read_csv('temper2.csv', sep=',')\n",
    "dfTemperature"
   ]
  },
  {
   "cell_type": "code",
   "execution_count": 34,
   "metadata": {},
   "outputs": [
    {
     "data": {
      "image/png": "[encoded data removed]",
      "text/plain": [
       "<Figure size 432x288 with 1 Axes>"
      ]
     },
     "metadata": {
      "needs_background": "light"
     },
     "output_type": "display_data"
    }
   ],
   "source": [
    "# Строим график температуры\n",
    "plt.scatter(0, 0, color=\"m\", marker=\"o\", s=30)\n",
    "plt.plot(dfTemperature['DATE'], dfTemperature['TMIN'], color=\"g\")\n",
    "plt.xlabel(\"Date\")\n",
    "plt.ylabel(\"Temperature\")\n",
    "plt.show()\n"
   ]
  },
  {
   "cell_type": "code",
   "execution_count": 163,
   "metadata": {},
   "outputs": [
    {
     "data": {
      "text/plain": [
       "STATION              0\n",
       "NAME                 0\n",
       "LATITUDE             0\n",
       "LONGITUDE            0\n",
       "ELEVATION            0\n",
       "DATE                 0\n",
       "TAVG               885\n",
       "TAVG_ATTRIBUTES    885\n",
       "TMAX                54\n",
       "TMAX_ATTRIBUTES     54\n",
       "TMIN                59\n",
       "TMIN_ATTRIBUTES     59\n",
       "dtype: int64"
      ]
     },
     "execution_count": 163,
     "metadata": {},
     "output_type": "execute_result"
    }
   ],
   "source": [
    "dfTemperature.isna().sum() # Есть ли пустые данные и сколько?"
   ]
  },
  {
   "cell_type": "code",
   "execution_count": 187,
   "metadata": {},
   "outputs": [],
   "source": [
    "# Заполняем пустышки\n",
    "dfTemperature['TMAX'] = dfTemperature.TMAX.fillna(dfTemperature.TMAX.mode()[0])"
   ]
  },
  {
   "cell_type": "code",
   "execution_count": 152,
   "metadata": {},
   "outputs": [
    {
     "data": {
      "text/plain": [
       "STATION              0\n",
       "NAME                 0\n",
       "LATITUDE             0\n",
       "LONGITUDE            0\n",
       "ELEVATION            0\n",
       "DATE                 0\n",
       "TAVG               885\n",
       "TAVG_ATTRIBUTES    885\n",
       "TMAX                 0\n",
       "TMAX_ATTRIBUTES     54\n",
       "TMIN                59\n",
       "TMIN_ATTRIBUTES     59\n",
       "dtype: int64"
      ]
     },
     "execution_count": 152,
     "metadata": {},
     "output_type": "execute_result"
    }
   ],
   "source": [
    "dfTemperature.isna().sum()"
   ]
  },
  {
   "cell_type": "code",
   "execution_count": 188,
   "metadata": {},
   "outputs": [
    {
     "name": "stderr",
     "output_type": "stream",
     "text": [
      "H:\\Soft\\anaconda3\\lib\\site-packages\\pandas\\core\\frame.py:4133: SettingWithCopyWarning: \n",
      "A value is trying to be set on a copy of a slice from a DataFrame\n",
      "\n",
      "See the caveats in the documentation: https://pandas.pydata.org/pandas-docs/stable/user_guide/indexing.html#returning-a-view-versus-a-copy\n",
      "  errors=errors,\n",
      "H:\\Soft\\anaconda3\\lib\\site-packages\\ipykernel_launcher.py:2: SettingWithCopyWarning: \n",
      "A value is trying to be set on a copy of a slice from a DataFrame.\n",
      "Try using .loc[row_indexer,col_indexer] = value instead\n",
      "\n",
      "See the caveats in the documentation: https://pandas.pydata.org/pandas-docs/stable/user_guide/indexing.html#returning-a-view-versus-a-copy\n",
      "  \n"
     ]
    }
   ],
   "source": [
    "# Делаем одинаковые имена для хранения даты в двух датасетах перед объединением\n",
    "df.rename(columns={'M_DATE': 'DATE'}, inplace=True)\n",
    "# Преобразуем в формат даты\n",
    "df['DATE']=pd.to_datetime(df['DATE'], yearfirst=True)\n",
    "dfTemperature['DATE']=pd.to_datetime(dfTemperature['DATE'], yearfirst=True)\n",
    "# Слияние двух датафреймов\n",
    "df2 = df.merge(dfTemperature)"
   ]
  },
  {
   "cell_type": "code",
   "execution_count": 198,
   "metadata": {},
   "outputs": [
    {
     "data": {
      "text/html": [
       "<div>\n",
       "<style scoped>\n",
       "    .dataframe tbody tr th:only-of-type {\n",
       "        vertical-align: middle;\n",
       "    }\n",
       "\n",
       "    .dataframe tbody tr th {\n",
       "        vertical-align: top;\n",
       "    }\n",
       "\n",
       "    .dataframe thead th {\n",
       "        text-align: right;\n",
       "    }\n",
       "</style>\n",
       "<table border=\"1\" class=\"dataframe\">\n",
       "  <thead>\n",
       "    <tr style=\"text-align: right;\">\n",
       "      <th></th>\n",
       "      <th>DATE</th>\n",
       "      <th>E_USE_FACT</th>\n",
       "      <th>TMAX</th>\n",
       "    </tr>\n",
       "  </thead>\n",
       "  <tbody>\n",
       "    <tr>\n",
       "      <th>0</th>\n",
       "      <td>2010-07-01</td>\n",
       "      <td>18684.0</td>\n",
       "      <td>26.1</td>\n",
       "    </tr>\n",
       "    <tr>\n",
       "      <th>1</th>\n",
       "      <td>2010-07-02</td>\n",
       "      <td>18570.0</td>\n",
       "      <td>29.2</td>\n",
       "    </tr>\n",
       "    <tr>\n",
       "      <th>2</th>\n",
       "      <td>2010-07-03</td>\n",
       "      <td>19109.0</td>\n",
       "      <td>26.8</td>\n",
       "    </tr>\n",
       "    <tr>\n",
       "      <th>3</th>\n",
       "      <td>2010-07-04</td>\n",
       "      <td>18399.0</td>\n",
       "      <td>26.8</td>\n",
       "    </tr>\n",
       "    <tr>\n",
       "      <th>4</th>\n",
       "      <td>2010-07-05</td>\n",
       "      <td>18227.0</td>\n",
       "      <td>28.3</td>\n",
       "    </tr>\n",
       "    <tr>\n",
       "      <th>...</th>\n",
       "      <td>...</td>\n",
       "      <td>...</td>\n",
       "      <td>...</td>\n",
       "    </tr>\n",
       "    <tr>\n",
       "      <th>3478</th>\n",
       "      <td>2020-11-14</td>\n",
       "      <td>26936.0</td>\n",
       "      <td>3.4</td>\n",
       "    </tr>\n",
       "    <tr>\n",
       "      <th>3479</th>\n",
       "      <td>2020-11-15</td>\n",
       "      <td>26454.0</td>\n",
       "      <td>1.5</td>\n",
       "    </tr>\n",
       "    <tr>\n",
       "      <th>3480</th>\n",
       "      <td>2020-11-16</td>\n",
       "      <td>26507.0</td>\n",
       "      <td>2.2</td>\n",
       "    </tr>\n",
       "    <tr>\n",
       "      <th>3481</th>\n",
       "      <td>2020-11-17</td>\n",
       "      <td>27363.0</td>\n",
       "      <td>-3.5</td>\n",
       "    </tr>\n",
       "    <tr>\n",
       "      <th>3482</th>\n",
       "      <td>2020-11-18</td>\n",
       "      <td>28015.0</td>\n",
       "      <td>-1.1</td>\n",
       "    </tr>\n",
       "  </tbody>\n",
       "</table>\n",
       "<p>3483 rows × 3 columns</p>\n",
       "</div>"
      ],
      "text/plain": [
       "           DATE  E_USE_FACT  TMAX\n",
       "0    2010-07-01     18684.0  26.1\n",
       "1    2010-07-02     18570.0  29.2\n",
       "2    2010-07-03     19109.0  26.8\n",
       "3    2010-07-04     18399.0  26.8\n",
       "4    2010-07-05     18227.0  28.3\n",
       "...         ...         ...   ...\n",
       "3478 2020-11-14     26936.0   3.4\n",
       "3479 2020-11-15     26454.0   1.5\n",
       "3480 2020-11-16     26507.0   2.2\n",
       "3481 2020-11-17     27363.0  -3.5\n",
       "3482 2020-11-18     28015.0  -1.1\n",
       "\n",
       "[3483 rows x 3 columns]"
      ]
     },
     "execution_count": 198,
     "metadata": {},
     "output_type": "execute_result"
    }
   ],
   "source": [
    "df2 = df2[['DATE','E_USE_FACT','TMAX']]\n",
    "df2"
   ]
  },
  {
   "cell_type": "markdown",
   "metadata": {},
   "source": [
    "# Корреляция температуры и потребления энергии 0,9!"
   ]
  },
  {
   "cell_type": "code",
   "execution_count": 155,
   "metadata": {},
   "outputs": [
    {
     "data": {
      "text/html": [
       "<div>\n",
       "<style scoped>\n",
       "    .dataframe tbody tr th:only-of-type {\n",
       "        vertical-align: middle;\n",
       "    }\n",
       "\n",
       "    .dataframe tbody tr th {\n",
       "        vertical-align: top;\n",
       "    }\n",
       "\n",
       "    .dataframe thead th {\n",
       "        text-align: right;\n",
       "    }\n",
       "</style>\n",
       "<table border=\"1\" class=\"dataframe\">\n",
       "  <thead>\n",
       "    <tr style=\"text-align: right;\">\n",
       "      <th></th>\n",
       "      <th>E_USE_FACT</th>\n",
       "      <th>TMAX</th>\n",
       "    </tr>\n",
       "  </thead>\n",
       "  <tbody>\n",
       "    <tr>\n",
       "      <th>E_USE_FACT</th>\n",
       "      <td>1.000000</td>\n",
       "      <td>-0.905307</td>\n",
       "    </tr>\n",
       "    <tr>\n",
       "      <th>TMAX</th>\n",
       "      <td>-0.905307</td>\n",
       "      <td>1.000000</td>\n",
       "    </tr>\n",
       "  </tbody>\n",
       "</table>\n",
       "</div>"
      ],
      "text/plain": [
       "            E_USE_FACT      TMAX\n",
       "E_USE_FACT    1.000000 -0.905307\n",
       "TMAX         -0.905307  1.000000"
      ]
     },
     "execution_count": 155,
     "metadata": {},
     "output_type": "execute_result"
    }
   ],
   "source": [
    "df2.corr() "
   ]
  },
  {
   "cell_type": "code",
   "execution_count": 190,
   "metadata": {},
   "outputs": [],
   "source": [
    "df2.to_csv('usetemp.csv')\n"
   ]
  },
  {
   "cell_type": "code",
   "execution_count": 126,
   "metadata": {},
   "outputs": [
    {
     "data": {
      "image/png": "[encoded data removed]",
      "text/plain": [
       "<Figure size 432x288 with 1 Axes>"
      ]
     },
     "metadata": {
      "needs_background": "light"
     },
     "output_type": "display_data"
    }
   ],
   "source": [
    "plt.scatter(0, 0, color=\"m\", marker=\"o\", s=3)\n",
    "plt.plot(df2['TMAX'],  color=\"g\")\n",
    "plt.xlabel(\"Date\")\n",
    "plt.ylabel(\"Temperature\")\n",
    "plt.show()\n"
   ]
  },
  {
   "cell_type": "code",
   "execution_count": 199,
   "metadata": {},
   "outputs": [],
   "source": [
    "df2.dropna()\n",
    "df2.insert(loc=0, column='Period', value=np.arange(len(df2)))\n",
    "df3 = df2.drop('DATE', axis=1)\n",
    "df3 = df3.dropna()\n",
    "\n",
    "X= df3.drop('E_USE_FACT', axis = 1).values\n",
    "y= df3['E_USE_FACT'].values\n",
    "\n"
   ]
  },
  {
   "cell_type": "code",
   "execution_count": 197,
   "metadata": {},
   "outputs": [
    {
     "data": {
      "text/plain": [
       "Period        0\n",
       "E_USE_FACT    0\n",
       "TMAX          0\n",
       "dtype: int64"
      ]
     },
     "execution_count": 197,
     "metadata": {},
     "output_type": "execute_result"
    }
   ],
   "source": [
    "df3.isna().sum()"
   ]
  },
  {
   "cell_type": "markdown",
   "metadata": {},
   "source": [
    "# Разбиваем на обучающую и тестовую выборки\n"
   ]
  },
  {
   "cell_type": "code",
   "execution_count": 215,
   "metadata": {},
   "outputs": [
    {
     "data": {
      "text/plain": [
       "array([[ 985. ,   -3.2],\n",
       "       [1297. ,  -12.9]])"
      ]
     },
     "execution_count": 215,
     "metadata": {},
     "output_type": "execute_result"
    }
   ],
   "source": [
    "from sklearn.model_selection import train_test_split\n",
    "X_train, X_test, y_train, y_test =  train_test_split(X,y,test_size=0.3,random_state=0)\n",
    "X_test[:2]"
   ]
  },
  {
   "cell_type": "markdown",
   "metadata": {},
   "source": [
    "# Создаем регрессионную модель на MLP"
   ]
  },
  {
   "cell_type": "code",
   "execution_count": 247,
   "metadata": {},
   "outputs": [],
   "source": [
    "from sklearn.neural_network import MLPRegressor\n",
    "regr = MLPRegressor(random_state=1, hidden_layer_sizes = 20, max_iter=15000).fit(X_train, y_train)\n",
    "pred = regr.predict([[3482, -1]])\n",
    "r2 = regr.score(X_test, y_test)"
   ]
  },
  {
   "cell_type": "code",
   "execution_count": 248,
   "metadata": {},
   "outputs": [
    {
     "data": {
      "text/plain": [
       "array([27514.61296108])"
      ]
     },
     "execution_count": 248,
     "metadata": {},
     "output_type": "execute_result"
    }
   ],
   "source": [
    "pred"
   ]
  },
  {
   "cell_type": "code",
   "execution_count": 249,
   "metadata": {},
   "outputs": [
    {
     "data": {
      "text/plain": [
       "0.8827224683812223"
      ]
     },
     "execution_count": 249,
     "metadata": {},
     "output_type": "execute_result"
    }
   ],
   "source": [
    "r2"
   ]
  },
  {
   "cell_type": "markdown",
   "metadata": {},
   "source": [
    "# Долгосрочный проноз по ВВП"
   ]
  },
  {
   "cell_type": "code",
   "execution_count": 316,
   "metadata": {},
   "outputs": [
    {
     "data": {
      "text/html": [
       "<div>\n",
       "<style scoped>\n",
       "    .dataframe tbody tr th:only-of-type {\n",
       "        vertical-align: middle;\n",
       "    }\n",
       "\n",
       "    .dataframe tbody tr th {\n",
       "        vertical-align: top;\n",
       "    }\n",
       "\n",
       "    .dataframe thead th {\n",
       "        text-align: right;\n",
       "    }\n",
       "</style>\n",
       "<table border=\"1\" class=\"dataframe\">\n",
       "  <thead>\n",
       "    <tr style=\"text-align: right;\">\n",
       "      <th></th>\n",
       "      <th>Year</th>\n",
       "      <th>GDP</th>\n",
       "      <th>GDPR</th>\n",
       "      <th>PE</th>\n",
       "    </tr>\n",
       "  </thead>\n",
       "  <tbody>\n",
       "    <tr>\n",
       "      <th>0</th>\n",
       "      <td>1998</td>\n",
       "      <td>290.230000</td>\n",
       "      <td>2629.6</td>\n",
       "      <td>827200</td>\n",
       "    </tr>\n",
       "    <tr>\n",
       "      <th>1</th>\n",
       "      <td>1999</td>\n",
       "      <td>209.770000</td>\n",
       "      <td>4823.2</td>\n",
       "      <td>846200</td>\n",
       "    </tr>\n",
       "    <tr>\n",
       "      <th>2</th>\n",
       "      <td>2000</td>\n",
       "      <td>278.070000</td>\n",
       "      <td>7305.6</td>\n",
       "      <td>877800</td>\n",
       "    </tr>\n",
       "    <tr>\n",
       "      <th>3</th>\n",
       "      <td>2001</td>\n",
       "      <td>328.270000</td>\n",
       "      <td>8943.6</td>\n",
       "      <td>891300</td>\n",
       "    </tr>\n",
       "    <tr>\n",
       "      <th>4</th>\n",
       "      <td>2002</td>\n",
       "      <td>369.900000</td>\n",
       "      <td>10830.5</td>\n",
       "      <td>891000</td>\n",
       "    </tr>\n",
       "    <tr>\n",
       "      <th>5</th>\n",
       "      <td>2003</td>\n",
       "      <td>460.740000</td>\n",
       "      <td>13080.2</td>\n",
       "      <td>916000</td>\n",
       "    </tr>\n",
       "    <tr>\n",
       "      <th>6</th>\n",
       "      <td>2004</td>\n",
       "      <td>632.760000</td>\n",
       "      <td>17027.2</td>\n",
       "      <td>932000</td>\n",
       "    </tr>\n",
       "    <tr>\n",
       "      <th>7</th>\n",
       "      <td>2005</td>\n",
       "      <td>817.750000</td>\n",
       "      <td>21609.8</td>\n",
       "      <td>953100</td>\n",
       "    </tr>\n",
       "    <tr>\n",
       "      <th>8</th>\n",
       "      <td>2006</td>\n",
       "      <td>1059.990000</td>\n",
       "      <td>26917.2</td>\n",
       "      <td>995800</td>\n",
       "    </tr>\n",
       "    <tr>\n",
       "      <th>9</th>\n",
       "      <td>2007</td>\n",
       "      <td>1391.680000</td>\n",
       "      <td>33247.5</td>\n",
       "      <td>1015300</td>\n",
       "    </tr>\n",
       "    <tr>\n",
       "      <th>10</th>\n",
       "      <td>2008</td>\n",
       "      <td>1778.390000</td>\n",
       "      <td>41276.8</td>\n",
       "      <td>1040400</td>\n",
       "    </tr>\n",
       "    <tr>\n",
       "      <th>11</th>\n",
       "      <td>2009</td>\n",
       "      <td>1309.170000</td>\n",
       "      <td>38807.2</td>\n",
       "      <td>992000</td>\n",
       "    </tr>\n",
       "    <tr>\n",
       "      <th>12</th>\n",
       "      <td>2010</td>\n",
       "      <td>1632.840000</td>\n",
       "      <td>46308.5</td>\n",
       "      <td>1038000</td>\n",
       "    </tr>\n",
       "    <tr>\n",
       "      <th>13</th>\n",
       "      <td>2011</td>\n",
       "      <td>2044.610000</td>\n",
       "      <td>60282.5</td>\n",
       "      <td>1054800</td>\n",
       "    </tr>\n",
       "    <tr>\n",
       "      <th>14</th>\n",
       "      <td>2012</td>\n",
       "      <td>2202.670000</td>\n",
       "      <td>68163.9</td>\n",
       "      <td>1069300</td>\n",
       "    </tr>\n",
       "    <tr>\n",
       "      <th>15</th>\n",
       "      <td>2013</td>\n",
       "      <td>2289.240000</td>\n",
       "      <td>73133.9</td>\n",
       "      <td>1045015</td>\n",
       "    </tr>\n",
       "    <tr>\n",
       "      <th>16</th>\n",
       "      <td>2014</td>\n",
       "      <td>2056.580000</td>\n",
       "      <td>79199.7</td>\n",
       "      <td>1047447</td>\n",
       "    </tr>\n",
       "    <tr>\n",
       "      <th>17</th>\n",
       "      <td>2015</td>\n",
       "      <td>1363.700000</td>\n",
       "      <td>83387.2</td>\n",
       "      <td>1049904</td>\n",
       "    </tr>\n",
       "    <tr>\n",
       "      <th>18</th>\n",
       "      <td>2016</td>\n",
       "      <td>1282.660000</td>\n",
       "      <td>86010.2</td>\n",
       "      <td>1071841</td>\n",
       "    </tr>\n",
       "    <tr>\n",
       "      <th>19</th>\n",
       "      <td>2017</td>\n",
       "      <td>1578.410000</td>\n",
       "      <td>92089.3</td>\n",
       "      <td>1073724</td>\n",
       "    </tr>\n",
       "    <tr>\n",
       "      <th>20</th>\n",
       "      <td>2018</td>\n",
       "      <td>1630.660000</td>\n",
       "      <td>103626.6</td>\n",
       "      <td>1091079</td>\n",
       "    </tr>\n",
       "    <tr>\n",
       "      <th>21</th>\n",
       "      <td>2019</td>\n",
       "      <td>1689.494825</td>\n",
       "      <td>109361.0</td>\n",
       "      <td>1096200</td>\n",
       "    </tr>\n",
       "  </tbody>\n",
       "</table>\n",
       "</div>"
      ],
      "text/plain": [
       "    Year          GDP      GDPR       PE\n",
       "0   1998   290.230000    2629.6   827200\n",
       "1   1999   209.770000    4823.2   846200\n",
       "2   2000   278.070000    7305.6   877800\n",
       "3   2001   328.270000    8943.6   891300\n",
       "4   2002   369.900000   10830.5   891000\n",
       "5   2003   460.740000   13080.2   916000\n",
       "6   2004   632.760000   17027.2   932000\n",
       "7   2005   817.750000   21609.8   953100\n",
       "8   2006  1059.990000   26917.2   995800\n",
       "9   2007  1391.680000   33247.5  1015300\n",
       "10  2008  1778.390000   41276.8  1040400\n",
       "11  2009  1309.170000   38807.2   992000\n",
       "12  2010  1632.840000   46308.5  1038000\n",
       "13  2011  2044.610000   60282.5  1054800\n",
       "14  2012  2202.670000   68163.9  1069300\n",
       "15  2013  2289.240000   73133.9  1045015\n",
       "16  2014  2056.580000   79199.7  1047447\n",
       "17  2015  1363.700000   83387.2  1049904\n",
       "18  2016  1282.660000   86010.2  1071841\n",
       "19  2017  1578.410000   92089.3  1073724\n",
       "20  2018  1630.660000  103626.6  1091079\n",
       "21  2019  1689.494825  109361.0  1096200"
      ]
     },
     "execution_count": 316,
     "metadata": {},
     "output_type": "execute_result"
    }
   ],
   "source": [
    "# Грузим данные из Excel\n",
    "data = pd.read_excel('GDP-Energy.xlsx', sheet_name='GDPEnergy')\n",
    "data"
   ]
  },
  {
   "cell_type": "markdown",
   "metadata": {},
   "source": [
    "# Корреляция производства энергии с ВВП в долларах 0,72"
   ]
  },
  {
   "cell_type": "code",
   "execution_count": 253,
   "metadata": {},
   "outputs": [
    {
     "data": {
      "text/html": [
       "<div>\n",
       "<style scoped>\n",
       "    .dataframe tbody tr th:only-of-type {\n",
       "        vertical-align: middle;\n",
       "    }\n",
       "\n",
       "    .dataframe tbody tr th {\n",
       "        vertical-align: top;\n",
       "    }\n",
       "\n",
       "    .dataframe thead th {\n",
       "        text-align: right;\n",
       "    }\n",
       "</style>\n",
       "<table border=\"1\" class=\"dataframe\">\n",
       "  <thead>\n",
       "    <tr style=\"text-align: right;\">\n",
       "      <th></th>\n",
       "      <th>Year</th>\n",
       "      <th>GDP</th>\n",
       "      <th>GDPR</th>\n",
       "      <th>PE</th>\n",
       "    </tr>\n",
       "  </thead>\n",
       "  <tbody>\n",
       "    <tr>\n",
       "      <th>Year</th>\n",
       "      <td>1.000000</td>\n",
       "      <td>0.801075</td>\n",
       "      <td>0.987296</td>\n",
       "      <td>0.608457</td>\n",
       "    </tr>\n",
       "    <tr>\n",
       "      <th>GDP</th>\n",
       "      <td>0.801075</td>\n",
       "      <td>1.000000</td>\n",
       "      <td>0.778786</td>\n",
       "      <td>0.722697</td>\n",
       "    </tr>\n",
       "    <tr>\n",
       "      <th>GDPR</th>\n",
       "      <td>0.987296</td>\n",
       "      <td>0.778786</td>\n",
       "      <td>1.000000</td>\n",
       "      <td>0.589731</td>\n",
       "    </tr>\n",
       "    <tr>\n",
       "      <th>PE</th>\n",
       "      <td>0.608457</td>\n",
       "      <td>0.722697</td>\n",
       "      <td>0.589731</td>\n",
       "      <td>1.000000</td>\n",
       "    </tr>\n",
       "  </tbody>\n",
       "</table>\n",
       "</div>"
      ],
      "text/plain": [
       "          Year       GDP      GDPR        PE\n",
       "Year  1.000000  0.801075  0.987296  0.608457\n",
       "GDP   0.801075  1.000000  0.778786  0.722697\n",
       "GDPR  0.987296  0.778786  1.000000  0.589731\n",
       "PE    0.608457  0.722697  0.589731  1.000000"
      ]
     },
     "execution_count": 253,
     "metadata": {},
     "output_type": "execute_result"
    }
   ],
   "source": [
    "\n",
    "data.corr()"
   ]
  },
  {
   "cell_type": "code",
   "execution_count": 317,
   "metadata": {},
   "outputs": [
    {
     "data": {
      "text/plain": [
       "array([[2019.        , 1689.49482466],\n",
       "       [2009.        , 1309.17      ],\n",
       "       [2017.        , 1578.41      ],\n",
       "       [2006.        , 1059.99      ],\n",
       "       [2004.        ,  632.76      ],\n",
       "       [2014.        , 2056.58      ],\n",
       "       [2002.        ,  369.9       ],\n",
       "       [2000.        ,  278.07      ],\n",
       "       [2003.        ,  460.74      ],\n",
       "       [2015.        , 1363.7       ],\n",
       "       [2007.        , 1391.68      ],\n",
       "       [2005.        ,  817.75      ],\n",
       "       [2016.        , 1282.66      ],\n",
       "       [2001.        ,  328.27      ],\n",
       "       [1998.        ,  290.23      ],\n",
       "       [2013.        , 2289.24      ],\n",
       "       [2010.        , 1632.84      ]])"
      ]
     },
     "execution_count": 317,
     "metadata": {},
     "output_type": "execute_result"
    }
   ],
   "source": [
    "# Убираем ВВП в рублях как менее значимый\n",
    "data = data.drop('GDPR', axis=1)\n",
    "# Пробуем со шкаолой времени и без нее. С ней выше результат обучения\n",
    "#data = data.drop('Year', axis=1) \n",
    "X= data.drop('PE', axis = 1).values\n",
    "y= data['PE'].values\n",
    "X_train, X_test, y_train, y_test =  train_test_split(X,y,test_size=0.2,random_state=0)\n",
    "X_train"
   ]
  },
  {
   "cell_type": "markdown",
   "metadata": {},
   "source": [
    "# Строим линейную регрессию"
   ]
  },
  {
   "cell_type": "code",
   "execution_count": 319,
   "metadata": {},
   "outputs": [],
   "source": [
    "from sklearn.linear_model import LinearRegression\n",
    "model = LinearRegression(normalize=True).fit(X_train,y_train)\n",
    "pred = model.predict([[2021,1650]])\n",
    "r2 = model.score(X_test, y_test)"
   ]
  },
  {
   "cell_type": "code",
   "execution_count": 320,
   "metadata": {},
   "outputs": [
    {
     "data": {
      "text/plain": [
       "array([1120118.12327059])"
      ]
     },
     "execution_count": 320,
     "metadata": {},
     "output_type": "execute_result"
    }
   ],
   "source": [
    "pred"
   ]
  },
  {
   "cell_type": "code",
   "execution_count": 321,
   "metadata": {},
   "outputs": [
    {
     "data": {
      "text/plain": [
       "0.939969394125197"
      ]
     },
     "execution_count": 321,
     "metadata": {},
     "output_type": "execute_result"
    }
   ],
   "source": [
    "r2"
   ]
  },
  {
   "cell_type": "code",
   "execution_count": null,
   "metadata": {},
   "outputs": [],
   "source": []
  }
 ],
 "metadata": {
  "kernelspec": {
   "display_name": "Python 3",
   "language": "python",
   "name": "python3"
  },
  "language_info": {
   "codemirror_mode": {
    "name": "ipython",
    "version": 3
   },
   "file_extension": ".py",
   "mimetype": "text/x-python",
   "name": "python",
   "nbconvert_exporter": "python",
   "pygments_lexer": "ipython3",
   "version": "3.7.6"
  }
 },
 "nbformat": 4,
 "nbformat_minor": 4
}
